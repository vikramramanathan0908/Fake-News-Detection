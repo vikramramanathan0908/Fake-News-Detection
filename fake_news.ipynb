{
 "cells": [
  {
   "cell_type": "code",
   "execution_count": 100,
   "id": "dfa6af40",
   "metadata": {},
   "outputs": [],
   "source": [
    "import pandas as pd\n",
    "from sklearn.preprocessing import StandardScaler\n",
    "from sklearn.model_selection import train_test_split\n",
    "from sklearn.linear_model import LogisticRegression\n",
    "from sklearn.metrics import accuracy_score, classification_report, confusion_matrix\n",
    "from geopy.geocoders import Nominatim"
   ]
  },
  {
   "cell_type": "code",
   "execution_count": 101,
   "id": "f7af6557",
   "metadata": {},
   "outputs": [],
   "source": [
    "df_fake = pd.read_csv('FakeNewsNet_Fake.csv')\n",
    "df_real = pd.read_csv('FakeNewsNet_Real.csv')"
   ]
  },
  {
   "cell_type": "code",
   "execution_count": 102,
   "id": "9591f80a",
   "metadata": {},
   "outputs": [
    {
     "data": {
      "text/plain": [
       "1305547"
      ]
     },
     "execution_count": 102,
     "metadata": {},
     "output_type": "execute_result"
    }
   ],
   "source": [
    "df_real.shape[0] + df_fake.shape[0]"
   ]
  },
  {
   "cell_type": "code",
   "execution_count": 103,
   "id": "4578946a",
   "metadata": {},
   "outputs": [],
   "source": [
    "df_news = pd.concat([df_real,df_fake],ignore_index=True)"
   ]
  },
  {
   "cell_type": "code",
   "execution_count": 104,
   "id": "73c6bfa3",
   "metadata": {},
   "outputs": [],
   "source": [
    "df_news = df_news.drop(['user_id','tweet_id','text','location'],axis=1)"
   ]
  },
  {
   "cell_type": "code",
   "execution_count": 105,
   "id": "772b4314",
   "metadata": {},
   "outputs": [
    {
     "data": {
      "text/html": [
       "<div>\n",
       "<style scoped>\n",
       "    .dataframe tbody tr th:only-of-type {\n",
       "        vertical-align: middle;\n",
       "    }\n",
       "\n",
       "    .dataframe tbody tr th {\n",
       "        vertical-align: top;\n",
       "    }\n",
       "\n",
       "    .dataframe thead th {\n",
       "        text-align: right;\n",
       "    }\n",
       "</style>\n",
       "<table border=\"1\" class=\"dataframe\">\n",
       "  <thead>\n",
       "    <tr style=\"text-align: right;\">\n",
       "      <th></th>\n",
       "      <th>followers</th>\n",
       "      <th>following</th>\n",
       "      <th>verified</th>\n",
       "      <th>statuses_count</th>\n",
       "      <th>profile_background_tile</th>\n",
       "      <th>profile_use_background_image</th>\n",
       "      <th>favorite_count</th>\n",
       "      <th>label</th>\n",
       "    </tr>\n",
       "  </thead>\n",
       "  <tbody>\n",
       "    <tr>\n",
       "      <th>0</th>\n",
       "      <td>1277</td>\n",
       "      <td>4995</td>\n",
       "      <td>False</td>\n",
       "      <td>27716</td>\n",
       "      <td>True</td>\n",
       "      <td>True</td>\n",
       "      <td>0</td>\n",
       "      <td>1</td>\n",
       "    </tr>\n",
       "  </tbody>\n",
       "</table>\n",
       "</div>"
      ],
      "text/plain": [
       "   followers  following  verified  statuses_count  profile_background_tile  \\\n",
       "0       1277       4995     False           27716                     True   \n",
       "\n",
       "   profile_use_background_image  favorite_count  label  \n",
       "0                          True               0      1  "
      ]
     },
     "execution_count": 105,
     "metadata": {},
     "output_type": "execute_result"
    }
   ],
   "source": [
    "df_news.head(1)"
   ]
  },
  {
   "cell_type": "code",
   "execution_count": 106,
   "id": "5ae886c4",
   "metadata": {},
   "outputs": [],
   "source": [
    "scalar = StandardScaler()"
   ]
  },
  {
   "cell_type": "code",
   "execution_count": 107,
   "id": "b5dd45b3",
   "metadata": {},
   "outputs": [],
   "source": [
    "df_news['followers'] = scalar.fit_transform(df_news[['followers']])\n",
    "df_news['following'] = scalar.fit_transform(df_news[['following']])\n",
    "df_news['statuses_count'] = scalar.fit_transform(df_news[['statuses_count']])\n",
    "df_news['favorite_count'] = scalar.fit_transform(df_news[['favorite_count']])"
   ]
  },
  {
   "cell_type": "code",
   "execution_count": 113,
   "id": "55d3e89e",
   "metadata": {},
   "outputs": [],
   "source": [
    "df_news.to_csv('cleaned_news.csv')"
   ]
  },
  {
   "cell_type": "code",
   "execution_count": 115,
   "id": "e39f99fa",
   "metadata": {},
   "outputs": [
    {
     "data": {
      "text/plain": [
       "followers                       0\n",
       "following                       0\n",
       "verified                        0\n",
       "statuses_count                  0\n",
       "profile_background_tile         0\n",
       "profile_use_background_image    0\n",
       "favorite_count                  0\n",
       "label                           0\n",
       "dtype: int64"
      ]
     },
     "execution_count": 115,
     "metadata": {},
     "output_type": "execute_result"
    }
   ],
   "source": [
    "df_news.isna().sum()"
   ]
  },
  {
   "cell_type": "code",
   "execution_count": null,
   "id": "04372a69",
   "metadata": {},
   "outputs": [],
   "source": []
  }
 ],
 "metadata": {
  "kernelspec": {
   "display_name": "Python 3 (ipykernel)",
   "language": "python",
   "name": "python3"
  },
  "language_info": {
   "codemirror_mode": {
    "name": "ipython",
    "version": 3
   },
   "file_extension": ".py",
   "mimetype": "text/x-python",
   "name": "python",
   "nbconvert_exporter": "python",
   "pygments_lexer": "ipython3",
   "version": "3.10.9"
  }
 },
 "nbformat": 4,
 "nbformat_minor": 5
}
